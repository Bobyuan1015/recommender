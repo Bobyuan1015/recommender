{
 "cells": [
  {
   "cell_type": "code",
   "execution_count": 6,
   "metadata": {},
   "outputs": [],
   "source": [
    "import xgboost as xgb\n",
    "import numpy as np\n",
    "import pandas as pd\n",
    "from sklearn.model_selection import train_test_split\n",
    "from sklearn.datasets.svmlight_format import load_svmlight_file\n",
    "from sklearn.ensemble.gradient_boosting import GradientBoostingClassifier\n",
    "from sklearn.linear_model.logistic import LogisticRegression\n",
    "from sklearn.metrics.ranking import roc_auc_score\n",
    "from sklearn.preprocessing.data import OneHotEncoder\n",
    "from scipy.sparse.construct import hstack\n",
    "\n",
    "\n",
    "def xgboost_lr():\n",
    "    #导入数据\n",
    "    data = pd.read_csv('cs.csv')\n",
    "    #应变量\n",
    "    y_all=data['SeriousDlqin2yrs']\n",
    "    #自变量，剔除对因变量影响不明显的变量\n",
    "    x_all=data.drop(['SeriousDlqin2yrs', 'DebtRatio', 'MonthlyIncome',\n",
    "                 'NumberOfOpenCreditLinesAndLoans', \n",
    "                 'NumberRealEstateLoansOrLines', 'NumberOfDependents'],axis=1)\n",
    "    # 训练/测试数据分割\n",
    "    x_train, x_test, y_train, y_test = train_test_split(x_all, y_all, test_size=0.3, random_state=42)\n",
    "\n",
    "    # xgb_model\n",
    "    xgb_model = XGBClassifier(\n",
    "         learning_rate =0.2,\n",
    "         n_estimators=34,\n",
    "         max_depth=4,\n",
    "         min_child_weight=1,\n",
    "         gamma=0.24,\n",
    "         subsample=0.7,\n",
    "         colsample_bytree=0.6,\n",
    "         objective= 'binary:logistic',\n",
    "         nthread=4,\n",
    "         scale_pos_weight=1,\n",
    "         seed=27)\n",
    "#     xgb_model = xgb.XGBClassifier(nthread=4, learning_rate=0.08,\n",
    "#                                   n_estimators=50, max_depth=5, gamma=0, subsample=0.9, colsample_bytree=0.5)\n",
    "    xgb_model.fit(x_train, y_train)\n",
    "    y_test_predict = xgb_model.predict_proba(x_test)[:, 1]\n",
    "    xgb_test_auc = roc_auc_score(y_test, y_test_predict)\n",
    "    print('xgboost test auc: %.5f' % xgb_test_auc)\n",
    "\n",
    "    # lr\n",
    "    lr= LogisticRegression(C=1.0,penalty='l2')\n",
    "#     lr = LogisticRegression()\n",
    "    lr.fit(x_train, y_train)  # 预测及AUC评测\n",
    "    y_test_predict = lr.predict_proba(x_test)[:, 1]\n",
    "    lr_test_auc = roc_auc_score(y_test, y_test_predict)\n",
    "    print('基于原有特征的LR AUC: %.5f' % lr_test_auc)\n",
    "\n",
    "    # xgb编码特征,特征转换,在训练得到34棵树之后，我们需要得到的不是GBDT的预测结果，而是每一条训练数据落在了每棵树的哪个叶子结点上\n",
    "    x_train_leaves = xgb_model.apply(x_train)\n",
    "    x_test_leaves = xgb_model.apply(x_test)\n",
    "    # 合并编码后的训练数据和测试数据\n",
    "    all_leaves = np.concatenate((x_train_leaves, x_test_leaves), axis=0)\n",
    "    all_leaves = all_leaves.astype(np.int32)\n",
    "    # 对所有特征进行ont-hot编码\n",
    "    one_hot_enc = OneHotEncoder()\n",
    "    x_trans = one_hot_enc.fit_transform(all_leaves)\n",
    "\n",
    "    # xgb+lr\n",
    "    (train_rows, cols) = x_train_leaves.shape\n",
    "    lr = LogisticRegression()\n",
    "    lr.fit(x_trans[:train_rows, :], y_train)\n",
    "    y_xgb_lr1_predict = lr.predict_proba(x_trans[train_rows:, :])[:, 1]\n",
    "    xgb_lr1_auc = roc_auc_score(y_test, y_xgb_lr1_predict)\n",
    "    print('基于Xgb编码特征的xgb+lr AUC: %.5f' % xgb_lr1_auc)\n",
    "\n",
    "    # xgb+lr组合特征\n",
    "    lr = LogisticRegression()\n",
    "    # 水平将数组堆叠起来\n",
    "    X_train_ext = hstack([x_trans[:train_rows, :], x_train])\n",
    "    X_test_ext = hstack([x_trans[train_rows:, :], x_test])\n",
    "    lr.fit(X_train_ext, y_train)\n",
    "    y_xgb_lr2_predict = lr.predict_proba(X_test_ext)[:, 1]\n",
    "    xgb_lr2_auc = roc_auc_score(y_test, y_xgb_lr2_predict)\n",
    "    print('基于xgb编码特征和LR组合特征的xgb+lr AUC: %.5f' % xgb_lr2_auc)"
   ]
  },
  {
   "cell_type": "code",
   "execution_count": 7,
   "metadata": {},
   "outputs": [
    {
     "ename": "NameError",
     "evalue": "name 'pd' is not defined",
     "output_type": "error",
     "traceback": [
      "\u001b[0;31m---------------------------------------------------------------------------\u001b[0m",
      "\u001b[0;31mNameError\u001b[0m                                 Traceback (most recent call last)",
      "\u001b[0;32m<ipython-input-7-1ee4b26629d7>\u001b[0m in \u001b[0;36m<module>\u001b[0;34m\u001b[0m\n\u001b[0;32m----> 1\u001b[0;31m \u001b[0mxgboost_lr\u001b[0m\u001b[0;34m(\u001b[0m\u001b[0;34m)\u001b[0m\u001b[0;34m\u001b[0m\u001b[0;34m\u001b[0m\u001b[0m\n\u001b[0m",
      "\u001b[0;32m<ipython-input-6-bdc4e206210a>\u001b[0m in \u001b[0;36mxgboost_lr\u001b[0;34m()\u001b[0m\n\u001b[1;32m     12\u001b[0m \u001b[0;32mdef\u001b[0m \u001b[0mxgboost_lr\u001b[0m\u001b[0;34m(\u001b[0m\u001b[0;34m)\u001b[0m\u001b[0;34m:\u001b[0m\u001b[0;34m\u001b[0m\u001b[0;34m\u001b[0m\u001b[0m\n\u001b[1;32m     13\u001b[0m     \u001b[0;31m#导入数据\u001b[0m\u001b[0;34m\u001b[0m\u001b[0;34m\u001b[0m\u001b[0;34m\u001b[0m\u001b[0m\n\u001b[0;32m---> 14\u001b[0;31m     \u001b[0mdata\u001b[0m \u001b[0;34m=\u001b[0m \u001b[0mpd\u001b[0m\u001b[0;34m.\u001b[0m\u001b[0mread_csv\u001b[0m\u001b[0;34m(\u001b[0m\u001b[0;34m'cs.csv'\u001b[0m\u001b[0;34m)\u001b[0m\u001b[0;34m\u001b[0m\u001b[0;34m\u001b[0m\u001b[0m\n\u001b[0m\u001b[1;32m     15\u001b[0m     \u001b[0;31m#应变量\u001b[0m\u001b[0;34m\u001b[0m\u001b[0;34m\u001b[0m\u001b[0;34m\u001b[0m\u001b[0m\n\u001b[1;32m     16\u001b[0m     \u001b[0my_all\u001b[0m\u001b[0;34m=\u001b[0m\u001b[0mdata\u001b[0m\u001b[0;34m[\u001b[0m\u001b[0;34m'SeriousDlqin2yrs'\u001b[0m\u001b[0;34m]\u001b[0m\u001b[0;34m\u001b[0m\u001b[0;34m\u001b[0m\u001b[0m\n",
      "\u001b[0;31mNameError\u001b[0m: name 'pd' is not defined"
     ]
    }
   ],
   "source": [
    "xgboost_lr()"
   ]
  },
  {
   "cell_type": "code",
   "execution_count": 7,
   "metadata": {},
   "outputs": [],
   "source": [
    "import pandas as pd\n",
    "from sklearn.model_selection import train_test_split\n",
    "#导入数据\n",
    "data = pd.read_csv('./data/cs-training.csv')\n",
    "# 训练/测试数据分割\n",
    "# train, test = train_test_split(data, test_size=0.3, random_state=42)"
   ]
  },
  {
   "cell_type": "code",
   "execution_count": 16,
   "metadata": {},
   "outputs": [
    {
     "data": {
      "text/html": [
       "<div>\n",
       "<style scoped>\n",
       "    .dataframe tbody tr th:only-of-type {\n",
       "        vertical-align: middle;\n",
       "    }\n",
       "\n",
       "    .dataframe tbody tr th {\n",
       "        vertical-align: top;\n",
       "    }\n",
       "\n",
       "    .dataframe thead th {\n",
       "        text-align: right;\n",
       "    }\n",
       "</style>\n",
       "<table border=\"1\" class=\"dataframe\">\n",
       "  <thead>\n",
       "    <tr style=\"text-align: right;\">\n",
       "      <th></th>\n",
       "      <th>SeriousDlqin2yrs</th>\n",
       "      <th>RevolvingUtilizationOfUnsecuredLines</th>\n",
       "      <th>age</th>\n",
       "      <th>NumberOfTime30-59DaysPastDueNotWorse</th>\n",
       "      <th>DebtRatio</th>\n",
       "      <th>MonthlyIncome</th>\n",
       "      <th>NumberOfOpenCreditLinesAndLoans</th>\n",
       "      <th>NumberOfTimes90DaysLate</th>\n",
       "      <th>NumberRealEstateLoansOrLines</th>\n",
       "      <th>NumberOfTime60-89DaysPastDueNotWorse</th>\n",
       "      <th>NumberOfDependents</th>\n",
       "    </tr>\n",
       "  </thead>\n",
       "  <tbody>\n",
       "    <tr>\n",
       "      <th>0</th>\n",
       "      <td>1</td>\n",
       "      <td>0.766127</td>\n",
       "      <td>45</td>\n",
       "      <td>2</td>\n",
       "      <td>0.802982</td>\n",
       "      <td>9120.0</td>\n",
       "      <td>13</td>\n",
       "      <td>0</td>\n",
       "      <td>6</td>\n",
       "      <td>0</td>\n",
       "      <td>2.0</td>\n",
       "    </tr>\n",
       "    <tr>\n",
       "      <th>1</th>\n",
       "      <td>0</td>\n",
       "      <td>0.957151</td>\n",
       "      <td>40</td>\n",
       "      <td>0</td>\n",
       "      <td>0.121876</td>\n",
       "      <td>2600.0</td>\n",
       "      <td>4</td>\n",
       "      <td>0</td>\n",
       "      <td>0</td>\n",
       "      <td>0</td>\n",
       "      <td>1.0</td>\n",
       "    </tr>\n",
       "    <tr>\n",
       "      <th>2</th>\n",
       "      <td>0</td>\n",
       "      <td>0.658180</td>\n",
       "      <td>38</td>\n",
       "      <td>1</td>\n",
       "      <td>0.085113</td>\n",
       "      <td>3042.0</td>\n",
       "      <td>2</td>\n",
       "      <td>1</td>\n",
       "      <td>0</td>\n",
       "      <td>0</td>\n",
       "      <td>0.0</td>\n",
       "    </tr>\n",
       "    <tr>\n",
       "      <th>3</th>\n",
       "      <td>0</td>\n",
       "      <td>0.233810</td>\n",
       "      <td>30</td>\n",
       "      <td>0</td>\n",
       "      <td>0.036050</td>\n",
       "      <td>3300.0</td>\n",
       "      <td>5</td>\n",
       "      <td>0</td>\n",
       "      <td>0</td>\n",
       "      <td>0</td>\n",
       "      <td>0.0</td>\n",
       "    </tr>\n",
       "    <tr>\n",
       "      <th>4</th>\n",
       "      <td>0</td>\n",
       "      <td>0.907239</td>\n",
       "      <td>49</td>\n",
       "      <td>1</td>\n",
       "      <td>0.024926</td>\n",
       "      <td>63588.0</td>\n",
       "      <td>7</td>\n",
       "      <td>0</td>\n",
       "      <td>1</td>\n",
       "      <td>0</td>\n",
       "      <td>0.0</td>\n",
       "    </tr>\n",
       "  </tbody>\n",
       "</table>\n",
       "</div>"
      ],
      "text/plain": [
       "   SeriousDlqin2yrs  RevolvingUtilizationOfUnsecuredLines  age  \\\n",
       "0                 1                              0.766127   45   \n",
       "1                 0                              0.957151   40   \n",
       "2                 0                              0.658180   38   \n",
       "3                 0                              0.233810   30   \n",
       "4                 0                              0.907239   49   \n",
       "\n",
       "   NumberOfTime30-59DaysPastDueNotWorse  DebtRatio  MonthlyIncome  \\\n",
       "0                                     2   0.802982         9120.0   \n",
       "1                                     0   0.121876         2600.0   \n",
       "2                                     1   0.085113         3042.0   \n",
       "3                                     0   0.036050         3300.0   \n",
       "4                                     1   0.024926        63588.0   \n",
       "\n",
       "   NumberOfOpenCreditLinesAndLoans  NumberOfTimes90DaysLate  \\\n",
       "0                               13                        0   \n",
       "1                                4                        0   \n",
       "2                                2                        1   \n",
       "3                                5                        0   \n",
       "4                                7                        0   \n",
       "\n",
       "   NumberRealEstateLoansOrLines  NumberOfTime60-89DaysPastDueNotWorse  \\\n",
       "0                             6                                     0   \n",
       "1                             0                                     0   \n",
       "2                             0                                     0   \n",
       "3                             0                                     0   \n",
       "4                             1                                     0   \n",
       "\n",
       "   NumberOfDependents  \n",
       "0                 2.0  \n",
       "1                 1.0  \n",
       "2                 0.0  \n",
       "3                 0.0  \n",
       "4                 0.0  "
      ]
     },
     "execution_count": 16,
     "metadata": {},
     "output_type": "execute_result"
    }
   ],
   "source": [
    "data.head()"
   ]
  },
  {
   "cell_type": "code",
   "execution_count": 17,
   "metadata": {},
   "outputs": [],
   "source": [
    "#自变量，剔除对因变量影响不明显的变量\n",
    "x_all =data.drop(['SeriousDlqin2yrs', 'DebtRatio', 'MonthlyIncome',\n",
    "             'NumberOfOpenCreditLinesAndLoans', \n",
    "             'NumberRealEstateLoansOrLines', 'NumberOfDependents'],axis=1)\n",
    "y_all = data['SeriousDlqin2yrs']\n",
    "# 训练/测试数据分割\n",
    "x_train, x_test, y_train, y_test = train_test_split(x_all, y_all, test_size=0.3, random_state=42)"
   ]
  },
  {
   "cell_type": "code",
   "execution_count": 52,
   "metadata": {},
   "outputs": [
    {
     "data": {
      "text/plain": [
       "0    139974\n",
       "1     10026\n",
       "Name: SeriousDlqin2yrs, dtype: int64"
      ]
     },
     "execution_count": 52,
     "metadata": {},
     "output_type": "execute_result"
    }
   ],
   "source": [
    "data['SeriousDlqin2yrs'].value_counts()"
   ]
  },
  {
   "cell_type": "code",
   "execution_count": 22,
   "metadata": {},
   "outputs": [
    {
     "name": "stdout",
     "output_type": "stream",
     "text": [
      "xgboost test auc: 0.85582\n"
     ]
    }
   ],
   "source": [
    "import xgboost as xgb\n",
    "import numpy as np\n",
    "from sklearn.model_selection import train_test_split\n",
    "from sklearn.datasets.svmlight_format import load_svmlight_file\n",
    "from sklearn.ensemble.gradient_boosting import GradientBoostingClassifier\n",
    "from sklearn.linear_model.logistic import LogisticRegression\n",
    "from sklearn.metrics.ranking import roc_auc_score\n",
    "from sklearn.preprocessing.data import OneHotEncoder\n",
    "from scipy.sparse.construct import hstack\n",
    "\n",
    "# xgb_model\n",
    "xgb_model = XGBClassifier(\n",
    "     learning_rate =0.2,\n",
    "     n_estimators=34,\n",
    "     max_depth=4,\n",
    "     min_child_weight=1,\n",
    "     gamma=0.24,\n",
    "     subsample=0.7,\n",
    "     colsample_bytree=0.6,\n",
    "     objective= 'binary:logistic',\n",
    "     nthread=4,\n",
    "     scale_pos_weight=1,\n",
    "     seed=27)\n",
    "#     xgb_model = xgb.XGBClassifier(nthread=4, learning_rate=0.08,\n",
    "#                                   n_estimators=50, max_depth=5, gamma=0, subsample=0.9, colsample_bytree=0.5)\n",
    "xgb_model.fit(x_train, y_train)\n"
   ]
  },
  {
   "cell_type": "code",
   "execution_count": 23,
   "metadata": {},
   "outputs": [],
   "source": [
    "y_test_predict = xgb_model.predict_proba(x_test)[:, 1]"
   ]
  },
  {
   "cell_type": "code",
   "execution_count": 24,
   "metadata": {},
   "outputs": [
    {
     "name": "stdout",
     "output_type": "stream",
     "text": [
      "xgboost test auc: 0.85582\n"
     ]
    }
   ],
   "source": [
    "xgb_test_auc = roc_auc_score(y_test, y_test_predict)\n",
    "print('xgboost test auc: %.5f' % xgb_test_auc)"
   ]
  },
  {
   "cell_type": "code",
   "execution_count": 29,
   "metadata": {},
   "outputs": [],
   "source": [
    "# xgb编码特征\n",
    "x_train_leaves = xgb_model.apply(x_train)\n",
    "x_test_leaves = xgb_model.apply(x_test)"
   ]
  },
  {
   "cell_type": "code",
   "execution_count": 47,
   "metadata": {},
   "outputs": [
    {
     "data": {
      "text/plain": [
       "34"
      ]
     },
     "execution_count": 47,
     "metadata": {},
     "output_type": "execute_result"
    }
   ],
   "source": [
    "len(x_train_leaves[0])"
   ]
  },
  {
   "cell_type": "code",
   "execution_count": 33,
   "metadata": {},
   "outputs": [],
   "source": [
    "# 合并编码后的训练数据和测试数据\n",
    "all_leaves = np.concatenate((x_train_leaves, x_test_leaves), axis=0)\n",
    "all_leaves = all_leaves.astype(np.int32)\n"
   ]
  },
  {
   "cell_type": "code",
   "execution_count": 35,
   "metadata": {},
   "outputs": [],
   "source": [
    "# 对所有特征进行ont-hot编码\n",
    "one_hot_enc = OneHotEncoder()\n",
    "x_trans = one_hot_enc.fit_transform(all_leaves)\n"
   ]
  },
  {
   "cell_type": "code",
   "execution_count": null,
   "metadata": {},
   "outputs": [],
   "source": [
    "# xgb+lr\n",
    "(train_rows, cols) = x_train_leaves.shape\n",
    "lr = LogisticRegression()\n",
    "lr.fit(x_trans[:train_rows, :], y_train)\n",
    "y_xgb_lr1_predict = lr.predict_proba(x_trans[train_rows:, :])[:, 1]\n",
    "xgb_lr1_auc = roc_auc_score(y_test, y_xgb_lr1_predict)\n",
    "print('基于Xgb编码特征的xgb+lr AUC: %.5f' % xgb_lr1_auc)\n",
    "\n",
    "# xgb+lr组合特征\n",
    "lr = LogisticRegression()\n",
    "# 水平将数组堆叠起来\n",
    "X_train_ext = hstack([x_trans[:train_rows, :], x_train])\n",
    "X_test_ext = hstack([x_trans[train_rows:, :], x_test])\n",
    "lr.fit(X_train_ext, y_train)\n",
    "y_xgb_lr2_predict = lr.predict_proba(X_test_ext)[:, 1]\n",
    "xgb_lr2_auc = roc_auc_score(y_test, y_xgb_lr2_predict)\n",
    "print('基于xgb编码特征和LR组合特征的xgb+lr AUC: %.5f' % xgb_lr2_auc)"
   ]
  },
  {
   "cell_type": "code",
   "execution_count": 34,
   "metadata": {},
   "outputs": [
    {
     "data": {
      "text/plain": [
       "array([[15, 17, 16, ..., 16, 30, 15],\n",
       "       [21, 20, 23, ..., 23, 30, 28],\n",
       "       [15, 15, 15, ..., 15, 30, 15],\n",
       "       ...,\n",
       "       [16, 15, 18, ..., 23, 30, 23],\n",
       "       [21, 19, 23, ..., 23, 30, 28],\n",
       "       [23, 23, 19, ..., 27, 30, 28]])"
      ]
     },
     "execution_count": 34,
     "metadata": {},
     "output_type": "execute_result"
    }
   ],
   "source": [
    "all_leaves"
   ]
  },
  {
   "cell_type": "code",
   "execution_count": 32,
   "metadata": {},
   "outputs": [
    {
     "data": {
      "text/plain": [
       "(105000, 45000)"
      ]
     },
     "execution_count": 32,
     "metadata": {},
     "output_type": "execute_result"
    }
   ],
   "source": [
    "len(x_train_leaves),len(x_test_leaves)"
   ]
  },
  {
   "cell_type": "code",
   "execution_count": 15,
   "metadata": {},
   "outputs": [
    {
     "data": {
      "text/html": [
       "<div>\n",
       "<style scoped>\n",
       "    .dataframe tbody tr th:only-of-type {\n",
       "        vertical-align: middle;\n",
       "    }\n",
       "\n",
       "    .dataframe tbody tr th {\n",
       "        vertical-align: top;\n",
       "    }\n",
       "\n",
       "    .dataframe thead th {\n",
       "        text-align: right;\n",
       "    }\n",
       "</style>\n",
       "<table border=\"1\" class=\"dataframe\">\n",
       "  <thead>\n",
       "    <tr style=\"text-align: right;\">\n",
       "      <th></th>\n",
       "      <th>const</th>\n",
       "      <th>RevolvingUtilizationOfUnsecuredLines</th>\n",
       "      <th>age</th>\n",
       "      <th>NumberOfTime30-59DaysPastDueNotWorse</th>\n",
       "      <th>NumberOfTimes90DaysLate</th>\n",
       "      <th>NumberOfTime60-89DaysPastDueNotWorse</th>\n",
       "    </tr>\n",
       "  </thead>\n",
       "  <tbody>\n",
       "    <tr>\n",
       "      <th>0</th>\n",
       "      <td>1.0</td>\n",
       "      <td>0.766127</td>\n",
       "      <td>45</td>\n",
       "      <td>2</td>\n",
       "      <td>0</td>\n",
       "      <td>0</td>\n",
       "    </tr>\n",
       "    <tr>\n",
       "      <th>1</th>\n",
       "      <td>1.0</td>\n",
       "      <td>0.957151</td>\n",
       "      <td>40</td>\n",
       "      <td>0</td>\n",
       "      <td>0</td>\n",
       "      <td>0</td>\n",
       "    </tr>\n",
       "    <tr>\n",
       "      <th>2</th>\n",
       "      <td>1.0</td>\n",
       "      <td>0.658180</td>\n",
       "      <td>38</td>\n",
       "      <td>1</td>\n",
       "      <td>1</td>\n",
       "      <td>0</td>\n",
       "    </tr>\n",
       "    <tr>\n",
       "      <th>3</th>\n",
       "      <td>1.0</td>\n",
       "      <td>0.233810</td>\n",
       "      <td>30</td>\n",
       "      <td>0</td>\n",
       "      <td>0</td>\n",
       "      <td>0</td>\n",
       "    </tr>\n",
       "    <tr>\n",
       "      <th>4</th>\n",
       "      <td>1.0</td>\n",
       "      <td>0.907239</td>\n",
       "      <td>49</td>\n",
       "      <td>1</td>\n",
       "      <td>0</td>\n",
       "      <td>0</td>\n",
       "    </tr>\n",
       "  </tbody>\n",
       "</table>\n",
       "</div>"
      ],
      "text/plain": [
       "   const  RevolvingUtilizationOfUnsecuredLines  age  \\\n",
       "0    1.0                              0.766127   45   \n",
       "1    1.0                              0.957151   40   \n",
       "2    1.0                              0.658180   38   \n",
       "3    1.0                              0.233810   30   \n",
       "4    1.0                              0.907239   49   \n",
       "\n",
       "   NumberOfTime30-59DaysPastDueNotWorse  NumberOfTimes90DaysLate  \\\n",
       "0                                     2                        0   \n",
       "1                                     0                        0   \n",
       "2                                     1                        1   \n",
       "3                                     0                        0   \n",
       "4                                     1                        0   \n",
       "\n",
       "   NumberOfTime60-89DaysPastDueNotWorse  \n",
       "0                                     0  \n",
       "1                                     0  \n",
       "2                                     0  \n",
       "3                                     0  \n",
       "4                                     0  "
      ]
     },
     "execution_count": 15,
     "metadata": {},
     "output_type": "execute_result"
    }
   ],
   "source": [
    "x_all.head()"
   ]
  }
 ],
 "metadata": {
  "kernelspec": {
   "display_name": "Python 3",
   "language": "python",
   "name": "python3"
  },
  "language_info": {
   "codemirror_mode": {
    "name": "ipython",
    "version": 3
   },
   "file_extension": ".py",
   "mimetype": "text/x-python",
   "name": "python",
   "nbconvert_exporter": "python",
   "pygments_lexer": "ipython3",
   "version": "3.7.3"
  }
 },
 "nbformat": 4,
 "nbformat_minor": 2
}
